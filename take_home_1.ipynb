{
 "cells": [
  {
   "cell_type": "markdown",
   "metadata": {
    "id": "wnNX8z6KUPeA"
   },
   "source": [
    "Connor Richardson"
   ]
  },
  {
   "cell_type": "markdown",
   "metadata": {
    "id": "0wEx1nkWTi2P"
   },
   "source": [
    "# Take-Home Exam 1\n",
    "\n",
    "Complete the data analysis tasks in the provided Jupyter notebook. You'll need to write code to answer questions about a dataset and explain your work throughout.\n",
    "\n",
    "**Code + Commentary**: For each question, write the necessary code and (necessary but not limited to):\n",
    "\n",
    "- Visualize your data (usuful for inspecting it, but also to justify your choices)\n",
    "- Explain why you chose specific methods or tests\n",
    "- Always state the null and the laternative hypothesis clearly\n",
    "- Interpret your results\n",
    "\n",
    "*Important: Commentary is mandatory - you won't get full points without it.*\n",
    "\n",
    "**Submission**: Upload your notebook + data files to Moodle. Make sure file paths work so your notebook runs when downloaded.\n",
    "\n",
    "*Important: Between 5 and 15 points will be deducted for notebooks that do not run properly.*\n",
    "\n",
    "**Grade**: Worth 30% of your final grade  \n",
    "**Deadline**: October 26, 23:59"
   ]
  },
  {
   "cell_type": "markdown",
   "metadata": {
    "id": "ful8PgkS2n2o"
   },
   "source": [
    "# Instructions"
   ]
  },
  {
   "cell_type": "code",
   "execution_count": null,
   "metadata": {
    "executionInfo": {
     "elapsed": 13,
     "status": "ok",
     "timestamp": 1757584308684,
     "user": {
      "displayName": "Clara Eminente",
      "userId": "02107252188572518465"
     },
     "user_tz": -120
    },
    "id": "9QVoxUET2qMO"
   },
   "outputs": [],
   "source": [
    "# Import here all relevant libraries\n",
    "import pandas as pd\n",
    "import numpy as np\n",
    "import seaborn as sns\n",
    "import matplotlib.pyplot as plt\n",
    "from scipy import stats"
   ]
  },
  {
   "cell_type": "markdown",
   "metadata": {
    "id": "P6EZRUKjzHEp"
   },
   "source": [
    "You will be working with variables from the World Development Indicators. Go to https://databank.worldbank.org/source/world-development-indicators# and download the following indicators or all countries in the year 2021:\n",
    "- 'Access to electricity (% of population)' \n",
    "- 'Educational attainment, at least completed primary, population 25+ years, total (%) (cumulative)'\n",
    "- 'Fertility rate, total (births per woman)'\n",
    "- 'Urban population growth (annual %)'\n",
    "\n",
    "\n",
    "**1) Load the data into the notebook, inspect it and clean it, thoroughly explaining your choices.**"
   ]
  },
  {
   "cell_type": "code",
   "execution_count": 3,
   "metadata": {
    "executionInfo": {
     "elapsed": 11,
     "status": "ok",
     "timestamp": 1757584310898,
     "user": {
      "displayName": "Clara Eminente",
      "userId": "02107252188572518465"
     },
     "user_tz": -120
    },
    "id": "YeUCtCTgWv1z"
   },
   "outputs": [],
   "source": [
    "# Insert your code here. You can use more than one cell. Comment on your choices thorughout the code and comment on your result using text cells.\n"
   ]
  },
  {
   "cell_type": "markdown",
   "metadata": {
    "id": "BwNx2XnM0s0_"
   },
   "source": [
    "In our analysis we will need to split countries based on their region.\n",
    "\n",
    "**2) Load the CLASS.xlsx file that we used in previous notebooks and merge it to the previously created (cleaned) dataframe. Keep the 'Region' and 'Income group' columns.**"
   ]
  },
  {
   "cell_type": "code",
   "execution_count": 5,
   "metadata": {
    "executionInfo": {
     "elapsed": 9,
     "status": "ok",
     "timestamp": 1757584310926,
     "user": {
      "displayName": "Clara Eminente",
      "userId": "02107252188572518465"
     },
     "user_tz": -120
    },
    "id": "nG1r1He60sLu"
   },
   "outputs": [],
   "source": [
    "# Insert your code here. You can use more than one cell. Comment on your choices thorughout the code and comment on your result using text cells.\n"
   ]
  },
  {
   "cell_type": "markdown",
   "metadata": {
    "id": "ZUvGwBoC1e17"
   },
   "source": [
    "Do different regions have different access to electricity? In the following, use appropriate statistical tests to answer this question.\n",
    "\n",
    "**3) Inspect the distributions of access to electricity for the different regions. What test is appropriate to establish whether the regions have different access to electricity? Why? Perform the statistical test and comment on the results.**\n",
    "\n",
    "**4) Can you think of another statistical test that would be suitable to answer this question? Perform it and comment on the results.**"
   ]
  },
  {
   "cell_type": "code",
   "execution_count": 7,
   "metadata": {
    "executionInfo": {
     "elapsed": 12,
     "status": "ok",
     "timestamp": 1757584311217,
     "user": {
      "displayName": "Clara Eminente",
      "userId": "02107252188572518465"
     },
     "user_tz": -120
    },
    "id": "zCH8pIBo4yJG"
   },
   "outputs": [],
   "source": [
    "# Insert your code here. You can use more than one cell. Comment on your choices thorughout the code and comment on your result using text cells.\n"
   ]
  },
  {
   "cell_type": "markdown",
   "metadata": {},
   "source": [
    "**5) Is electricity access in the regions of Europe & Central Asia higher than in those of East Asia & Pasific? Perform an appropiate test to answer this question.**"
   ]
  },
  {
   "cell_type": "code",
   "execution_count": 17,
   "metadata": {},
   "outputs": [],
   "source": [
    "# Insert your code here. You can use more than one cell. Comment on your choices thorughout the code and comment on your result using text cells."
   ]
  },
  {
   "cell_type": "markdown",
   "metadata": {
    "id": "YLw-UawF6-Og"
   },
   "source": [
    "**6) Do you notice something particular about the results of these tests? Comment on it using the concept of effect size.**"
   ]
  },
  {
   "cell_type": "code",
   "execution_count": 19,
   "metadata": {
    "executionInfo": {
     "elapsed": 10,
     "status": "ok",
     "timestamp": 1757584312111,
     "user": {
      "displayName": "Clara Eminente",
      "userId": "02107252188572518465"
     },
     "user_tz": -120
    },
    "id": "PjELyMO873rU"
   },
   "outputs": [],
   "source": [
    "# Insert your code here. You can use more than one cell. Comment on your choices thorughout the code and comment on your result using text cells."
   ]
  },
  {
   "cell_type": "markdown",
   "metadata": {
    "id": "JJISoBox-ZRi"
   },
   "source": [
    "We want to repeat a similar analysis using resampling approaches.\n",
    "\n",
    "**7) Focus on countries in the Sub-Saharan Africa region: compute the bootstrapped median of the access to electricity and its 95% confidence interval and visualize them.**\n",
    "\n",
    "**8) Focus on counties in the Latin America & Caribbean with Europe & Central Asia regions: use a permutation test to check whether the countries have the same median access to electricity.**"
   ]
  },
  {
   "cell_type": "code",
   "execution_count": 23,
   "metadata": {
    "executionInfo": {
     "elapsed": 12,
     "status": "ok",
     "timestamp": 1757584312160,
     "user": {
      "displayName": "Clara Eminente",
      "userId": "02107252188572518465"
     },
     "user_tz": -120
    },
    "id": "XA83a3N5CBFb"
   },
   "outputs": [],
   "source": [
    "# Insert your code here. You can use more than one cell. Comment on your choices thorughout the code and comment on your result using text cells."
   ]
  },
  {
   "cell_type": "markdown",
   "metadata": {},
   "source": [
    "We now want to test whether fertility rate and urban population growth are correlated.\n",
    "\n",
    "**9) Choose an appropriate statistical test to assess the correlation between these two variables and use a permutation approach to it. Justify your choice of test.**"
   ]
  },
  {
   "cell_type": "code",
   "execution_count": 28,
   "metadata": {},
   "outputs": [],
   "source": [
    "# Insert your code here. You can use more than one cell. Comment on your choices thorughout the code and comment on your result using text cells.\n"
   ]
  },
  {
   "cell_type": "markdown",
   "metadata": {},
   "source": [
    "We now want to explore the relationship between income group and regions of the world.\n",
    "\n",
    "**10) Is the observed distribution of number of countries per income group compatible with a uniform distribution?**\n",
    "\n",
    "**11) Is a country's probability of being in a given income group independent of the probability of being in a given region? Consider only countries in the East Asia & Pacific, Europe & Central Asia, Latin America & Caribbean and Sub-Saharan Africa regions.**"
   ]
  },
  {
   "cell_type": "code",
   "execution_count": 31,
   "metadata": {},
   "outputs": [],
   "source": [
    "# Insert your code here. You can use more than one cell. Comment on your choices thorughout the code and comment on your result using text cells."
   ]
  },
  {
   "cell_type": "markdown",
   "metadata": {},
   "source": [
    "**12) Test the alternative hypothesis that a country's fertility rate is higher than its urban population growth. Answer this question *using a resampling approach implemented by hand (i.e. not using a built-in function).*** "
   ]
  },
  {
   "cell_type": "code",
   "execution_count": 34,
   "metadata": {},
   "outputs": [],
   "source": [
    "# Insert your code here. You can use more than one cell. Comment on your choices thorughout the code and comment on your result using text cells."
   ]
  }
 ],
 "metadata": {
  "colab": {
   "authorship_tag": "ABX9TyMT7eYnRSfrTogXd2TVqj7r",
   "provenance": []
  },
  "kernelspec": {
   "display_name": "stats",
   "language": "python",
   "name": "python3"
  },
  "language_info": {
   "codemirror_mode": {
    "name": "ipython",
    "version": 3
   },
   "file_extension": ".py",
   "mimetype": "text/x-python",
   "name": "python",
   "nbconvert_exporter": "python",
   "pygments_lexer": "ipython3",
   "version": "3.10.18"
  }
 },
 "nbformat": 4,
 "nbformat_minor": 0
}
